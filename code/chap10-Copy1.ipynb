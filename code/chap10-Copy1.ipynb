{
 "cells": [
  {
   "cell_type": "markdown",
   "metadata": {},
   "source": [
    "# Modeling and Simulation in Python\n",
    "\n",
    "Chapter 10: Vectors\n",
    "\n",
    "Copyright 2017 Allen Downey\n",
    "\n",
    "License: [Creative Commons Attribution 4.0 International](https://creativecommons.org/licenses/by/4.0)\n"
   ]
  },
  {
   "cell_type": "code",
   "execution_count": 2,
   "metadata": {
    "collapsed": true
   },
   "outputs": [],
   "source": [
    "# If you want the figures to appear in the notebook, \n",
    "# and you want to interact with them, use\n",
    "# %matplotlib notebook\n",
    "\n",
    "# If you want the figures to appear in the notebook, \n",
    "# and you don't want to interact with them, use\n",
    "# %matplotlib inline\n",
    "\n",
    "# If you want the figures to appear in separate windows, use\n",
    "# %matplotlib qt5\n",
    "\n",
    "# tempo switch from one to another, you have to select Kernel->Restart\n",
    "\n",
    "%matplotlib inline\n",
    "\n",
    "from modsim import *"
   ]
  },
  {
   "cell_type": "markdown",
   "metadata": {},
   "source": [
    "### Vectors"
   ]
  },
  {
   "cell_type": "markdown",
   "metadata": {},
   "source": [
    "A `Vector` object is like a combination of a NumPy array and a Pint Quantity.\n",
    "\n",
    "I'll start by grabbing the units we'll need."
   ]
  },
  {
   "cell_type": "code",
   "execution_count": 3,
   "metadata": {
    "collapsed": true
   },
   "outputs": [],
   "source": [
    "m = UNITS.meter\n",
    "s = UNITS.second\n",
    "kg = UNITS.kilogram"
   ]
  },
  {
   "cell_type": "markdown",
   "metadata": {},
   "source": [
    "Here's a two dimensional `Vector` in meters."
   ]
  },
  {
   "cell_type": "code",
   "execution_count": 4,
   "metadata": {
    "collapsed": true
   },
   "outputs": [],
   "source": [
    "A = Vector(3, 4) * m"
   ]
  },
  {
   "cell_type": "markdown",
   "metadata": {},
   "source": [
    "We can access the elements by name."
   ]
  },
  {
   "cell_type": "code",
   "execution_count": 5,
   "metadata": {},
   "outputs": [
    {
     "data": {
      "text/html": [
       "3.0 meter"
      ],
      "text/latex": [
       "$3.0 meter$"
      ],
      "text/plain": [
       "<Quantity(3.0, 'meter')>"
      ]
     },
     "execution_count": 5,
     "metadata": {},
     "output_type": "execute_result"
    }
   ],
   "source": [
    "A.x"
   ]
  },
  {
   "cell_type": "code",
   "execution_count": 6,
   "metadata": {},
   "outputs": [
    {
     "data": {
      "text/html": [
       "4.0 meter"
      ],
      "text/latex": [
       "$4.0 meter$"
      ],
      "text/plain": [
       "<Quantity(4.0, 'meter')>"
      ]
     },
     "execution_count": 6,
     "metadata": {},
     "output_type": "execute_result"
    }
   ],
   "source": [
    "A.y"
   ]
  },
  {
   "cell_type": "markdown",
   "metadata": {},
   "source": [
    "The magnitude is the length of the vector."
   ]
  },
  {
   "cell_type": "code",
   "execution_count": 7,
   "metadata": {},
   "outputs": [
    {
     "data": {
      "text/html": [
       "5.0 meter"
      ],
      "text/latex": [
       "$5.0 meter$"
      ],
      "text/plain": [
       "<Quantity(5.0, 'meter')>"
      ]
     },
     "execution_count": 7,
     "metadata": {},
     "output_type": "execute_result"
    }
   ],
   "source": [
    "A.mag"
   ]
  },
  {
   "cell_type": "markdown",
   "metadata": {},
   "source": [
    "The angle is the number of radians between the vector and the positive x axis."
   ]
  },
  {
   "cell_type": "code",
   "execution_count": 8,
   "metadata": {},
   "outputs": [
    {
     "data": {
      "text/html": [
       "0.9272952180016122 radian"
      ],
      "text/latex": [
       "$0.9272952180016122 radian$"
      ],
      "text/plain": [
       "<Quantity(0.9272952180016122, 'radian')>"
      ]
     },
     "execution_count": 8,
     "metadata": {},
     "output_type": "execute_result"
    }
   ],
   "source": [
    "A.angle"
   ]
  },
  {
   "cell_type": "markdown",
   "metadata": {},
   "source": [
    "If we make another `Vector` with the same units,"
   ]
  },
  {
   "cell_type": "code",
   "execution_count": 9,
   "metadata": {
    "collapsed": true
   },
   "outputs": [],
   "source": [
    "B = Vector(1, 2) * m"
   ]
  },
  {
   "cell_type": "markdown",
   "metadata": {},
   "source": [
    "We can add `Vector` objects like this"
   ]
  },
  {
   "cell_type": "code",
   "execution_count": 10,
   "metadata": {},
   "outputs": [
    {
     "data": {
      "text/html": [
       "[ 4.  6.] meter"
      ],
      "text/latex": [
       "$[ 4.  6.] meter$"
      ],
      "text/plain": [
       "<Quantity([ 4.  6.], 'meter')>"
      ]
     },
     "execution_count": 10,
     "metadata": {},
     "output_type": "execute_result"
    }
   ],
   "source": [
    "A + B"
   ]
  },
  {
   "cell_type": "markdown",
   "metadata": {},
   "source": [
    "And substract like this:"
   ]
  },
  {
   "cell_type": "code",
   "execution_count": 11,
   "metadata": {},
   "outputs": [
    {
     "data": {
      "text/html": [
       "[ 2.  2.] meter"
      ],
      "text/latex": [
       "$[ 2.  2.] meter$"
      ],
      "text/plain": [
       "<Quantity([ 2.  2.], 'meter')>"
      ]
     },
     "execution_count": 11,
     "metadata": {},
     "output_type": "execute_result"
    }
   ],
   "source": [
    "A - B"
   ]
  },
  {
   "cell_type": "markdown",
   "metadata": {},
   "source": [
    "We can compute the Euclidean distance between two Vectors."
   ]
  },
  {
   "cell_type": "code",
   "execution_count": 12,
   "metadata": {},
   "outputs": [
    {
     "data": {
      "text/html": [
       "2.8284271247461903 meter"
      ],
      "text/latex": [
       "$2.8284271247461903 meter$"
      ],
      "text/plain": [
       "<Quantity(2.8284271247461903, 'meter')>"
      ]
     },
     "execution_count": 12,
     "metadata": {},
     "output_type": "execute_result"
    }
   ],
   "source": [
    "A.dist(B)"
   ]
  },
  {
   "cell_type": "markdown",
   "metadata": {},
   "source": [
    "And the difference in angle"
   ]
  },
  {
   "cell_type": "code",
   "execution_count": 13,
   "metadata": {},
   "outputs": [
    {
     "data": {
      "text/html": [
       "-0.17985349979247822 radian"
      ],
      "text/latex": [
       "$-0.17985349979247822 radian$"
      ],
      "text/plain": [
       "<Quantity(-0.17985349979247822, 'radian')>"
      ]
     },
     "execution_count": 13,
     "metadata": {},
     "output_type": "execute_result"
    }
   ],
   "source": [
    "A.diff_angle(B)"
   ]
  },
  {
   "cell_type": "markdown",
   "metadata": {},
   "source": [
    "If we are given the magnitude and angle of a vector, what we have is the representation of the vector in polar coordinates."
   ]
  },
  {
   "cell_type": "code",
   "execution_count": 14,
   "metadata": {
    "collapsed": true
   },
   "outputs": [],
   "source": [
    "mag = A.mag\n",
    "angle = A.angle"
   ]
  },
  {
   "cell_type": "markdown",
   "metadata": {},
   "source": [
    "We can use `pol2cart` to convert from polar to Cartesian coordinates, and then use the Cartesian coordinates to make a `Vector` object.\n",
    "\n",
    "In this example, the `Vector` we get should have the same components as `A`."
   ]
  },
  {
   "cell_type": "code",
   "execution_count": 36,
   "metadata": {},
   "outputs": [
    {
     "data": {
      "text/html": [
       "[ 0.35355339  0.35355339] newton"
      ],
      "text/latex": [
       "$[ 0.35355339  0.35355339] newton$"
      ],
      "text/plain": [
       "<Quantity([ 0.35355339  0.35355339], 'newton')>"
      ]
     },
     "execution_count": 36,
     "metadata": {},
     "output_type": "execute_result"
    }
   ],
   "source": [
    "x, y = pol2cart(angle, mag)\n",
    "Vector(x, y)"
   ]
  },
  {
   "cell_type": "markdown",
   "metadata": {},
   "source": [
    "**Exercise:** Create a `Vector` named `a_grav` that represents acceleration due to gravity, with x component 0 and y component $-9.8$ meters / second$^2$."
   ]
  },
  {
   "cell_type": "code",
   "execution_count": 27,
   "metadata": {
    "collapsed": true
   },
   "outputs": [],
   "source": [
    "a_grav = Vector(0, -9.8  * m/s**2)"
   ]
  },
  {
   "cell_type": "markdown",
   "metadata": {},
   "source": [
    "### Degrees and radians\n",
    "\n",
    "Pint provides units to represent degree and radians."
   ]
  },
  {
   "cell_type": "code",
   "execution_count": 28,
   "metadata": {
    "collapsed": true
   },
   "outputs": [],
   "source": [
    "degree = UNITS.degree\n",
    "radian = UNITS.radian"
   ]
  },
  {
   "cell_type": "markdown",
   "metadata": {},
   "source": [
    "If you have an angle in degrees,"
   ]
  },
  {
   "cell_type": "code",
   "execution_count": 29,
   "metadata": {},
   "outputs": [
    {
     "data": {
      "text/html": [
       "45 degree"
      ],
      "text/latex": [
       "$45 degree$"
      ],
      "text/plain": [
       "<Quantity(45, 'degree')>"
      ]
     },
     "execution_count": 29,
     "metadata": {},
     "output_type": "execute_result"
    }
   ],
   "source": [
    "angle = 45 * degree\n",
    "angle"
   ]
  },
  {
   "cell_type": "markdown",
   "metadata": {},
   "source": [
    "You can convert to radians."
   ]
  },
  {
   "cell_type": "code",
   "execution_count": 30,
   "metadata": {},
   "outputs": [
    {
     "data": {
      "text/html": [
       "0.7853981633974483 radian"
      ],
      "text/latex": [
       "$0.7853981633974483 radian$"
      ],
      "text/plain": [
       "<Quantity(0.7853981633974483, 'radian')>"
      ]
     },
     "execution_count": 30,
     "metadata": {},
     "output_type": "execute_result"
    }
   ],
   "source": [
    "angle_rad = angle.to(radian)\n",
    "angle_rad"
   ]
  },
  {
   "cell_type": "markdown",
   "metadata": {},
   "source": [
    "If it's already in radians, `to` does the right thing."
   ]
  },
  {
   "cell_type": "code",
   "execution_count": 31,
   "metadata": {},
   "outputs": [
    {
     "data": {
      "text/html": [
       "0.7853981633974483 radian"
      ],
      "text/latex": [
       "$0.7853981633974483 radian$"
      ],
      "text/plain": [
       "<Quantity(0.7853981633974483, 'radian')>"
      ]
     },
     "execution_count": 31,
     "metadata": {},
     "output_type": "execute_result"
    }
   ],
   "source": [
    "angle_rad.to(radian)"
   ]
  },
  {
   "cell_type": "markdown",
   "metadata": {},
   "source": [
    "You can also convert from radians to degrees."
   ]
  },
  {
   "cell_type": "code",
   "execution_count": 38,
   "metadata": {
    "scrolled": true
   },
   "outputs": [
    {
     "data": {
      "text/html": [
       "45.0 degree"
      ],
      "text/latex": [
       "$45.0 degree$"
      ],
      "text/plain": [
       "<Quantity(45.0, 'degree')>"
      ]
     },
     "execution_count": 38,
     "metadata": {},
     "output_type": "execute_result"
    }
   ],
   "source": [
    "angle_rad.to(degree)"
   ]
  },
  {
   "cell_type": "markdown",
   "metadata": {},
   "source": [
    "As an alterative, you can use `np.deg2rad`, which works with Pint quantities, but it also works with simple numbers and NumPy arrays:"
   ]
  },
  {
   "cell_type": "code",
   "execution_count": 39,
   "metadata": {},
   "outputs": [
    {
     "data": {
      "text/html": [
       "0.7853981633974483 radian"
      ],
      "text/latex": [
       "$0.7853981633974483 radian$"
      ],
      "text/plain": [
       "<Quantity(0.7853981633974483, 'radian')>"
      ]
     },
     "execution_count": 39,
     "metadata": {},
     "output_type": "execute_result"
    }
   ],
   "source": [
    "np.deg2rad(angle)"
   ]
  },
  {
   "cell_type": "markdown",
   "metadata": {},
   "source": [
    "**Exercise:** Create a `Vector` named `a_force` that represents acceleration due to a force of 0.5 Newton applied to an object with mass 0.3 kilograms, in a direction 45 degrees up from the positive x-axis.\n",
    "\n",
    "Add `a_force` to `a_drag` from the previous exercise.  If that addition succeeds, that means that the units are compatible.  Confirm that the total acceleration seems to make sense."
   ]
  },
  {
   "cell_type": "code",
   "execution_count": 40,
   "metadata": {},
   "outputs": [
    {
     "data": {
      "text/html": [
       "[ 1.1785113  1.1785113] newton/kilogram"
      ],
      "text/latex": [
       "$[ 1.1785113  1.1785113] \\frac{newton}{kilogram}$"
      ],
      "text/plain": [
       "<Quantity([ 1.1785113  1.1785113], 'newton / kilogram')>"
      ]
     },
     "execution_count": 40,
     "metadata": {},
     "output_type": "execute_result"
    }
   ],
   "source": [
    "N = UNITS.newton\n",
    "mag = 0.5 * N\n",
    "angle = angle_rad\n",
    "x,y = pol2cart(angle, mag)\n",
    "force = Vector(x,y)\n",
    "mass = 0.3 * kg\n",
    "a_force = force / mass\n",
    "a_force"
   ]
  },
  {
   "cell_type": "code",
   "execution_count": 41,
   "metadata": {},
   "outputs": [
    {
     "data": {
      "text/html": [
       "[ 1.1785113 -8.6214887] newton/kilogram"
      ],
      "text/latex": [
       "$[ 1.1785113 -8.6214887] \\frac{newton}{kilogram}$"
      ],
      "text/plain": [
       "<Quantity([ 1.1785113 -8.6214887], 'newton / kilogram')>"
      ]
     },
     "execution_count": 41,
     "metadata": {},
     "output_type": "execute_result"
    }
   ],
   "source": [
    "a_total = a_force + a_grav\n",
    "a_total"
   ]
  },
  {
   "cell_type": "markdown",
   "metadata": {},
   "source": [
    "### Baseball"
   ]
  },
  {
   "cell_type": "markdown",
   "metadata": {},
   "source": [
    "Here's a `Condition` object that contains the parameters for the Manny Ramirez problem."
   ]
  },
  {
   "cell_type": "code",
   "execution_count": 42,
   "metadata": {
    "collapsed": true
   },
   "outputs": [],
   "source": [
    "condition = Condition(x = 0 * m, \n",
    "                      y = 1 * m,\n",
    "                      g = 9.8 * m/s**2,\n",
    "                      mass = 145e-3 * kg,\n",
    "                      diameter = 73e-3 * m,\n",
    "                      rho = 1.2 * kg/m**3,\n",
    "                      C_d = 0.3,\n",
    "                      angle = 45 * degree,\n",
    "                      velocity = 40 * m / s,\n",
    "                      duration = 5.1 * s)"
   ]
  },
  {
   "cell_type": "markdown",
   "metadata": {},
   "source": [
    "And here's the function that uses the `Condition` object to make a `System` object."
   ]
  },
  {
   "cell_type": "code",
   "execution_count": 43,
   "metadata": {
    "collapsed": true
   },
   "outputs": [],
   "source": [
    "def make_system(condition):\n",
    "    \"\"\"Make a system object.\n",
    "    \n",
    "    condition: Condition object with angle, velocity, x, y,\n",
    "               diameter, duration, g, mass, rho, and C_d\n",
    "               \n",
    "    returns: System object\n",
    "    \"\"\"\n",
    "    unpack(condition)\n",
    "    \n",
    "    # convert angle to degrees\n",
    "    theta = np.deg2rad(angle)\n",
    "    \n",
    "    # compute x and y components of velocity\n",
    "    vx, vy = pol2cart(theta, velocity)\n",
    "    \n",
    "    # make the initial state\n",
    "    init = State(x=x, y=y, vx=vx, vy=vy)\n",
    "    \n",
    "    # compute area from diameter\n",
    "    area = np.pi * (diameter/2)**2\n",
    "    \n",
    "    # compute timestamps\n",
    "    ts = linspace(0, duration, 101)\n",
    "    \n",
    "    return System(init=init, g=g, mass=mass, \n",
    "                  area=area, rho=rho, C_d=C_d, ts=ts)"
   ]
  },
  {
   "cell_type": "markdown",
   "metadata": {},
   "source": [
    "Here's how we use it:"
   ]
  },
  {
   "cell_type": "code",
   "execution_count": 44,
   "metadata": {},
   "outputs": [
    {
     "data": {
      "text/html": [
       "<div>\n",
       "<style>\n",
       "    .dataframe thead tr:only-child th {\n",
       "        text-align: right;\n",
       "    }\n",
       "\n",
       "    .dataframe thead th {\n",
       "        text-align: left;\n",
       "    }\n",
       "\n",
       "    .dataframe tbody tr th {\n",
       "        vertical-align: top;\n",
       "    }\n",
       "</style>\n",
       "<table border=\"1\" class=\"dataframe\">\n",
       "  <thead>\n",
       "    <tr style=\"text-align: right;\">\n",
       "      <th></th>\n",
       "      <th>value</th>\n",
       "    </tr>\n",
       "  </thead>\n",
       "  <tbody>\n",
       "    <tr>\n",
       "      <th>init</th>\n",
       "      <td>x                               0 meter\n",
       "y     ...</td>\n",
       "    </tr>\n",
       "    <tr>\n",
       "      <th>g</th>\n",
       "      <td>9.8 meter / second ** 2</td>\n",
       "    </tr>\n",
       "    <tr>\n",
       "      <th>mass</th>\n",
       "      <td>0.145 kilogram</td>\n",
       "    </tr>\n",
       "    <tr>\n",
       "      <th>area</th>\n",
       "      <td>0.004185386812745002 meter ** 2</td>\n",
       "    </tr>\n",
       "    <tr>\n",
       "      <th>rho</th>\n",
       "      <td>1.2 kilogram / meter ** 3</td>\n",
       "    </tr>\n",
       "    <tr>\n",
       "      <th>C_d</th>\n",
       "      <td>0.3</td>\n",
       "    </tr>\n",
       "    <tr>\n",
       "      <th>ts</th>\n",
       "      <td>[0.0 second, 0.051 second, 0.102 second, 0.153...</td>\n",
       "    </tr>\n",
       "  </tbody>\n",
       "</table>\n",
       "</div>"
      ],
      "text/plain": [
       "init    x                               0 meter\n",
       "y     ...\n",
       "g                                 9.8 meter / second ** 2\n",
       "mass                                       0.145 kilogram\n",
       "area                      0.004185386812745002 meter ** 2\n",
       "rho                             1.2 kilogram / meter ** 3\n",
       "C_d                                                   0.3\n",
       "ts      [0.0 second, 0.051 second, 0.102 second, 0.153...\n",
       "dtype: object"
      ]
     },
     "execution_count": 44,
     "metadata": {},
     "output_type": "execute_result"
    }
   ],
   "source": [
    "system = make_system(condition)\n",
    "system"
   ]
  },
  {
   "cell_type": "markdown",
   "metadata": {},
   "source": [
    "Here's the slope function that computes acceleration due to gravity and drag."
   ]
  },
  {
   "cell_type": "code",
   "execution_count": 45,
   "metadata": {
    "collapsed": true
   },
   "outputs": [],
   "source": [
    "def slope_func(state, t, system):\n",
    "    \"\"\"Computes derivatives of the state variables.\n",
    "    \n",
    "    state: State (x, y, x velocity, y velocity)\n",
    "    t: time\n",
    "    system: System object with g, rho, C_d, area, mass\n",
    "    \n",
    "    returns: sequence (vx, vy, ax, ay)\n",
    "    \"\"\"\n",
    "    x, y, vx, vy = state\n",
    "    unpack(system)\n",
    "    \n",
    "    a_grav = Vector(0, -g)\n",
    "\n",
    "    v = Vector(vx, vy)\n",
    "    \n",
    "    f_drag = -rho * v.mag * v * C_d * area / 2\n",
    "    a_drag = f_drag / mass\n",
    "    \n",
    "    a = a_grav + a_drag\n",
    "    \n",
    "    return vx, vy, a.x, a.y"
   ]
  },
  {
   "cell_type": "markdown",
   "metadata": {},
   "source": [
    "Always test the slope function with the initial conditions."
   ]
  },
  {
   "cell_type": "code",
   "execution_count": 46,
   "metadata": {},
   "outputs": [
    {
     "data": {
      "text/plain": [
       "(<Quantity(28.284271247461902, 'meter / second')>,\n",
       " <Quantity(28.284271247461902, 'meter / second')>,\n",
       " <Quantity(-5.878209892331404, 'meter / second ** 2')>,\n",
       " <Quantity(-15.678209892331406, 'meter / second ** 2')>)"
      ]
     },
     "execution_count": 46,
     "metadata": {},
     "output_type": "execute_result"
    }
   ],
   "source": [
    "slope_func(system.init, 0, system)"
   ]
  },
  {
   "cell_type": "markdown",
   "metadata": {},
   "source": [
    "Now we can run `odeint`"
   ]
  },
  {
   "cell_type": "code",
   "execution_count": 47,
   "metadata": {
    "collapsed": true
   },
   "outputs": [],
   "source": [
    "run_odeint(system, slope_func)"
   ]
  },
  {
   "cell_type": "markdown",
   "metadata": {},
   "source": [
    "Here are the first few time steps."
   ]
  },
  {
   "cell_type": "code",
   "execution_count": 48,
   "metadata": {},
   "outputs": [
    {
     "data": {
      "text/html": [
       "<div>\n",
       "<style>\n",
       "    .dataframe thead tr:only-child th {\n",
       "        text-align: right;\n",
       "    }\n",
       "\n",
       "    .dataframe thead th {\n",
       "        text-align: left;\n",
       "    }\n",
       "\n",
       "    .dataframe tbody tr th {\n",
       "        vertical-align: top;\n",
       "    }\n",
       "</style>\n",
       "<table border=\"1\" class=\"dataframe\">\n",
       "  <thead>\n",
       "    <tr style=\"text-align: right;\">\n",
       "      <th></th>\n",
       "      <th>x</th>\n",
       "      <th>y</th>\n",
       "      <th>vx</th>\n",
       "      <th>vy</th>\n",
       "    </tr>\n",
       "  </thead>\n",
       "  <tbody>\n",
       "    <tr>\n",
       "      <th>0.000</th>\n",
       "      <td>0.000000</td>\n",
       "      <td>1.000000</td>\n",
       "      <td>28.284271</td>\n",
       "      <td>28.284271</td>\n",
       "    </tr>\n",
       "    <tr>\n",
       "      <th>0.051</th>\n",
       "      <td>1.434929</td>\n",
       "      <td>2.422229</td>\n",
       "      <td>27.988924</td>\n",
       "      <td>27.491730</td>\n",
       "    </tr>\n",
       "    <tr>\n",
       "      <th>0.102</th>\n",
       "      <td>2.855017</td>\n",
       "      <td>3.804389</td>\n",
       "      <td>27.702226</td>\n",
       "      <td>26.712880</td>\n",
       "    </tr>\n",
       "    <tr>\n",
       "      <th>0.153</th>\n",
       "      <td>4.260697</td>\n",
       "      <td>5.147165</td>\n",
       "      <td>27.423836</td>\n",
       "      <td>25.947141</td>\n",
       "    </tr>\n",
       "    <tr>\n",
       "      <th>0.204</th>\n",
       "      <td>5.652384</td>\n",
       "      <td>6.451211</td>\n",
       "      <td>27.153433</td>\n",
       "      <td>25.193958</td>\n",
       "    </tr>\n",
       "  </tbody>\n",
       "</table>\n",
       "</div>"
      ],
      "text/plain": [
       "              x         y         vx         vy\n",
       "0.000  0.000000  1.000000  28.284271  28.284271\n",
       "0.051  1.434929  2.422229  27.988924  27.491730\n",
       "0.102  2.855017  3.804389  27.702226  26.712880\n",
       "0.153  4.260697  5.147165  27.423836  25.947141\n",
       "0.204  5.652384  6.451211  27.153433  25.193958"
      ]
     },
     "execution_count": 48,
     "metadata": {},
     "output_type": "execute_result"
    }
   ],
   "source": [
    "system.results.head()"
   ]
  },
  {
   "cell_type": "markdown",
   "metadata": {},
   "source": [
    "And the last few.  The last value of `y` is negative, indicating that the ball hit the ground before the end of the simulation."
   ]
  },
  {
   "cell_type": "code",
   "execution_count": 49,
   "metadata": {},
   "outputs": [
    {
     "data": {
      "text/html": [
       "<div>\n",
       "<style>\n",
       "    .dataframe thead tr:only-child th {\n",
       "        text-align: right;\n",
       "    }\n",
       "\n",
       "    .dataframe thead th {\n",
       "        text-align: left;\n",
       "    }\n",
       "\n",
       "    .dataframe tbody tr th {\n",
       "        vertical-align: top;\n",
       "    }\n",
       "</style>\n",
       "<table border=\"1\" class=\"dataframe\">\n",
       "  <thead>\n",
       "    <tr style=\"text-align: right;\">\n",
       "      <th></th>\n",
       "      <th>x</th>\n",
       "      <th>y</th>\n",
       "      <th>vx</th>\n",
       "      <th>vy</th>\n",
       "    </tr>\n",
       "  </thead>\n",
       "  <tbody>\n",
       "    <tr>\n",
       "      <th>4.896</th>\n",
       "      <td>100.274761</td>\n",
       "      <td>3.580383</td>\n",
       "      <td>15.135822</td>\n",
       "      <td>-21.336469</td>\n",
       "    </tr>\n",
       "    <tr>\n",
       "      <th>4.947</th>\n",
       "      <td>101.044011</td>\n",
       "      <td>2.483281</td>\n",
       "      <td>15.030816</td>\n",
       "      <td>-21.686507</td>\n",
       "    </tr>\n",
       "    <tr>\n",
       "      <th>4.998</th>\n",
       "      <td>101.807902</td>\n",
       "      <td>1.368423</td>\n",
       "      <td>14.925643</td>\n",
       "      <td>-22.032810</td>\n",
       "    </tr>\n",
       "    <tr>\n",
       "      <th>5.049</th>\n",
       "      <td>102.566424</td>\n",
       "      <td>0.235998</td>\n",
       "      <td>14.820318</td>\n",
       "      <td>-22.375365</td>\n",
       "    </tr>\n",
       "    <tr>\n",
       "      <th>5.100</th>\n",
       "      <td>103.319572</td>\n",
       "      <td>-0.913800</td>\n",
       "      <td>14.714856</td>\n",
       "      <td>-22.714157</td>\n",
       "    </tr>\n",
       "  </tbody>\n",
       "</table>\n",
       "</div>"
      ],
      "text/plain": [
       "                x         y         vx         vy\n",
       "4.896  100.274761  3.580383  15.135822 -21.336469\n",
       "4.947  101.044011  2.483281  15.030816 -21.686507\n",
       "4.998  101.807902  1.368423  14.925643 -22.032810\n",
       "5.049  102.566424  0.235998  14.820318 -22.375365\n",
       "5.100  103.319572 -0.913800  14.714856 -22.714157"
      ]
     },
     "execution_count": 49,
     "metadata": {},
     "output_type": "execute_result"
    }
   ],
   "source": [
    "system.results.tail()"
   ]
  },
  {
   "cell_type": "markdown",
   "metadata": {},
   "source": [
    "### Visualizing the results\n",
    "\n",
    "We can extract the x and y components as `Series` objects."
   ]
  },
  {
   "cell_type": "code",
   "execution_count": 50,
   "metadata": {
    "collapsed": true
   },
   "outputs": [],
   "source": [
    "xs = system.results.x\n",
    "ys = system.results.y"
   ]
  },
  {
   "cell_type": "markdown",
   "metadata": {},
   "source": [
    "The simplest way to visualize the results is to plot x and y as functions of time."
   ]
  },
  {
   "cell_type": "code",
   "execution_count": 51,
   "metadata": {},
   "outputs": [
    {
     "name": "stdout",
     "output_type": "stream",
     "text": [
      "Saving figure to file chap10-fig01.pdf\n"
     ]
    },
    {
     "data": {
      "image/png": "[encoded data removed]",
      "text/plain": [
       "<matplotlib.figure.Figure at 0x295e41f9cc0>"
      ]
     },
     "metadata": {},
     "output_type": "display_data"
    }
   ],
   "source": [
    "newfig()\n",
    "plot(xs, label='x')\n",
    "plot(ys, label='y')\n",
    "\n",
    "decorate(xlabel='Time (s)',\n",
    "         ylabel='Position (m)')\n",
    "\n",
    "savefig('chap10-fig01.pdf')"
   ]
  },
  {
   "cell_type": "markdown",
   "metadata": {},
   "source": [
    "We can plot the velocities the same way."
   ]
  },
  {
   "cell_type": "code",
   "execution_count": 52,
   "metadata": {
    "collapsed": true
   },
   "outputs": [],
   "source": [
    "vxs = system.results.vx\n",
    "vys = system.results.vy"
   ]
  },
  {
   "cell_type": "markdown",
   "metadata": {},
   "source": [
    "The x velocity slows down due to drag.  The y velocity drops quickly while drag and gravity are in the same direction, then more slowly after the ball starts to fall."
   ]
  },
  {
   "cell_type": "code",
   "execution_count": 53,
   "metadata": {},
   "outputs": [
    {
     "data": {
      "image/png": "[encoded data removed]",
      "text/plain": [
       "<matplotlib.figure.Figure at 0x295e4609668>"
      ]
     },
     "metadata": {},
     "output_type": "display_data"
    }
   ],
   "source": [
    "newfig()\n",
    "plot(vxs, label='vx')\n",
    "plot(vys, label='vy')\n",
    "\n",
    "decorate(xlabel='Time (s)',\n",
    "         ylabel='Velocity (m/s)')"
   ]
  },
  {
   "cell_type": "markdown",
   "metadata": {},
   "source": [
    "Another way to visualize the results is to plot y versus x.  The result is the trajectory of the ball through its plane of motion."
   ]
  },
  {
   "cell_type": "code",
   "execution_count": 54,
   "metadata": {},
   "outputs": [
    {
     "name": "stdout",
     "output_type": "stream",
     "text": [
      "Saving figure to file chap10-fig02.pdf\n"
     ]
    },
    {
     "data": {
      "image/png": "[encoded data removed]",
      "text/plain": [
       "<matplotlib.figure.Figure at 0x295e475f828>"
      ]
     },
     "metadata": {},
     "output_type": "display_data"
    }
   ],
   "source": [
    "newfig()\n",
    "plot(xs, ys, label='trajectory')\n",
    "\n",
    "decorate(xlabel='x position (m)',\n",
    "         ylabel='y position (m)')\n",
    "\n",
    "savefig('chap10-fig02.pdf')"
   ]
  },
  {
   "cell_type": "markdown",
   "metadata": {},
   "source": [
    "We can also animate the flight of the ball.  If there's an error in the simulation, we can sometimes spot it by looking at animations."
   ]
  },
  {
   "cell_type": "code",
   "execution_count": 56,
   "metadata": {
    "scrolled": false
   },
   "outputs": [
    {
     "data": {
      "image/png": "[encoded data removed]",
      "text/plain": [
       "<matplotlib.figure.Figure at 0x295e46b8208>"
      ]
     },
     "metadata": {},
     "output_type": "display_data"
    }
   ],
   "source": [
    "newfig()\n",
    "decorate(xlabel='x position (m)',\n",
    "         ylabel='y position (m)',\n",
    "         xlim=[0, 105],\n",
    "         ylim=[-5, 35],\n",
    "         legend=False)\n",
    "\n",
    "for x, y in zip(xs, ys):\n",
    "    plot(x, y, 'bo', update=True)\n",
    "    sleep(0.01)"
   ]
  },
  {
   "cell_type": "markdown",
   "metadata": {},
   "source": [
    "Here's a function that encapsulates that code and runs the animation in (approximately) real time."
   ]
  },
  {
   "cell_type": "code",
   "execution_count": 57,
   "metadata": {
    "collapsed": true
   },
   "outputs": [],
   "source": [
    "def animate2d(xs, ys, speedup=1):\n",
    "    \"\"\"Animate the results of a projectile simulation.\n",
    "    \n",
    "    xs: x position as a function of time\n",
    "    ys: y position as a function of time\n",
    "    \n",
    "    speedup: how much to divide `dt` by\n",
    "    \"\"\"\n",
    "    # get the time intervals between elements\n",
    "    ts = xs.index\n",
    "    dts = np.diff(ts)\n",
    "    dts = np.append(dts, 0)\n",
    "\n",
    "    # decorate the plot\n",
    "    newfig()\n",
    "    decorate(xlabel='x position (m)',\n",
    "             ylabel='y position (m)',\n",
    "             xlim=[xs.min(), xs.max()],\n",
    "             ylim=[ys.min(), ys.max()],\n",
    "             legend=False)\n",
    "\n",
    "    # loop through the values\n",
    "    for x, y, dt in zip(xs, ys, dts):\n",
    "        plot(x, y, 'bo', update=True)\n",
    "        sleep(dt / speedup)"
   ]
  },
  {
   "cell_type": "code",
   "execution_count": 58,
   "metadata": {
    "scrolled": false
   },
   "outputs": [
    {
     "data": {
      "image/png": "[encoded data removed]",
      "text/plain": [
       "<matplotlib.figure.Figure at 0x295e490a198>"
      ]
     },
     "metadata": {},
     "output_type": "display_data"
    }
   ],
   "source": [
    "animate2d(system.results.x, system.results.y)"
   ]
  },
  {
   "cell_type": "markdown",
   "metadata": {},
   "source": [
    "**Exercise:** Run the simulation for a few different launch angles and visualize the results.  Are they consistent with your expectations?"
   ]
  },
  {
   "cell_type": "code",
   "execution_count": 59,
   "metadata": {
    "collapsed": true
   },
   "outputs": [],
   "source": [
    "condition.set(angle=70 *degree)"
   ]
  },
  {
   "cell_type": "code",
   "execution_count": 61,
   "metadata": {
    "collapsed": true
   },
   "outputs": [],
   "source": [
    "system2 = make_system(condition)\n",
    "run_odeint(system2, slope_func)"
   ]
  },
  {
   "cell_type": "code",
   "execution_count": 63,
   "metadata": {
    "collapsed": true
   },
   "outputs": [],
   "source": [
    "xs = system2.results.x\n",
    "ys = system2.results.y"
   ]
  },
  {
   "cell_type": "code",
   "execution_count": 64,
   "metadata": {},
   "outputs": [
    {
     "data": {
      "image/png": "[encoded data removed]",
      "text/plain": [
       "<matplotlib.figure.Figure at 0x295e49746a0>"
      ]
     },
     "metadata": {},
     "output_type": "display_data"
    }
   ],
   "source": [
    "newfig()\n",
    "plot(xs, ys, label='trajectory')\n",
    "\n",
    "decorate(xlabel='x position (m)',\n",
    "         ylabel='y position (m)')"
   ]
  },
  {
   "cell_type": "code",
   "execution_count": 70,
   "metadata": {},
   "outputs": [
    {
     "data": {
      "image/png": "[encoded data removed]",
      "text/plain": [
       "<matplotlib.figure.Figure at 0x295e4bd64a8>"
      ]
     },
     "metadata": {},
     "output_type": "display_data"
    }
   ],
   "source": [
    "animate2d(system2.results.x, system2.results.y)"
   ]
  },
  {
   "cell_type": "code",
   "execution_count": 69,
   "metadata": {},
   "outputs": [
    {
     "data": {
      "image/png": "[encoded data removed]",
      "text/plain": [
       "<matplotlib.figure.Figure at 0x295e4adb9e8>"
      ]
     },
     "metadata": {},
     "output_type": "display_data"
    },
    {
     "data": {
      "image/png": "[encoded data removed]",
      "text/plain": [
       "<matplotlib.figure.Figure at 0x295e4b95ba8>"
      ]
     },
     "metadata": {},
     "output_type": "display_data"
    }
   ],
   "source": [
    "condition.set(angle=10 * degree)\n",
    "system3 = make_system(condition)\n",
    "run_odeint(system3, slope_func)\n",
    "xs = system3.results.x\n",
    "ys = system3.results.y\n",
    "\n",
    "newfig()\n",
    "plot(xs, ys, label='trajectory')\n",
    "\n",
    "decorate(xlabel='x position (m)',\n",
    "         ylabel='y position (m)')\n",
    "\n",
    "animate2d(system3.results.x, system3.results.y)"
   ]
  },
  {
   "cell_type": "markdown",
   "metadata": {},
   "source": [
    "### Finding the range"
   ]
  },
  {
   "cell_type": "markdown",
   "metadata": {},
   "source": [
    "Next we'll find the time and distance when the ball hits the ground."
   ]
  },
  {
   "cell_type": "code",
   "execution_count": 71,
   "metadata": {
    "collapsed": true
   },
   "outputs": [],
   "source": [
    "condition.set(duration=7*s)\n",
    "system = make_system(condition)\n",
    "run_odeint(system, slope_func)"
   ]
  },
  {
   "cell_type": "markdown",
   "metadata": {},
   "source": [
    "We have to interpolate y to find the landing time, then interpolate x to find the range."
   ]
  },
  {
   "cell_type": "code",
   "execution_count": 72,
   "metadata": {
    "collapsed": true
   },
   "outputs": [],
   "source": [
    "def interpolate_range(results):\n",
    "    \"\"\"Computes the range of the ball when it lands.\n",
    "    \n",
    "    results: TimeFrame with x and y\n",
    "    \n",
    "    returns: distance in meters\n",
    "    \"\"\"\n",
    "    xs = results.x\n",
    "    ys = results.y\n",
    "    t_end = ys.index[-1]\n",
    "    \n",
    "    if ys[t_end] > 0:\n",
    "        msg = \"\"\"The final value of y is still positive;\n",
    "                 looks like the simulation didn't run\n",
    "                 long enough.\"\"\"\n",
    "        raise ValueError(msg)\n",
    "        \n",
    "    t_peak = ys.argmax()\n",
    "    descent = ys.loc[t_peak:]\n",
    "    T = interp_inverse(descent, kind='cubic')\n",
    "    \n",
    "    t_land = T(0)\n",
    "    X = interpolate(xs, kind='cubic')\n",
    "    return X(t_land)"
   ]
  },
  {
   "cell_type": "markdown",
   "metadata": {},
   "source": [
    "Here's the result."
   ]
  },
  {
   "cell_type": "code",
   "execution_count": 73,
   "metadata": {},
   "outputs": [
    {
     "data": {
      "text/plain": [
       "array(51.405951243369216)"
      ]
     },
     "execution_count": 73,
     "metadata": {},
     "output_type": "execute_result"
    }
   ],
   "source": [
    "interpolate_range(system.results)"
   ]
  },
  {
   "cell_type": "markdown",
   "metadata": {},
   "source": [
    "**Exercise:** The baseball stadium in Denver, Colorado is 1,580 meters above sea level, where the density of air is about 1.0 kg / meter$^3$.  How much farther would a ball hit with the same velocity and launch angle travel?"
   ]
  },
  {
   "cell_type": "code",
   "execution_count": 82,
   "metadata": {
    "collapsed": true
   },
   "outputs": [],
   "source": [
    "condition2 = Condition(condition)\n"
   ]
  },
  {
   "cell_type": "code",
   "execution_count": 83,
   "metadata": {},
   "outputs": [],
   "source": [
    "condition2.set(rho = 1*kg/m**3)\n",
    "system = make_system(condition2)\n",
    "run_odeint(system, slope_func)"
   ]
  },
  {
   "cell_type": "code",
   "execution_count": 84,
   "metadata": {},
   "outputs": [
    {
     "data": {
      "text/plain": [
       "array(52.74387675564804)"
      ]
     },
     "execution_count": 84,
     "metadata": {},
     "output_type": "execute_result"
    }
   ],
   "source": [
    "interpolate_range(system.results)"
   ]
  },
  {
   "cell_type": "markdown",
   "metadata": {},
   "source": [
    "### Optimal launch angle\n",
    "\n",
    "To find the launch angle that maximizes range, we need a function that takes launch angle and returns range."
   ]
  },
  {
   "cell_type": "code",
   "execution_count": 92,
   "metadata": {
    "collapsed": true
   },
   "outputs": [],
   "source": [
    "def range_func(angle, condition):  \n",
    "    \"\"\"Computes range for a given launch angle.\n",
    "    \n",
    "    angle: launch angle in degrees\n",
    "    condition: Condition object\n",
    "    \n",
    "    returns: distance in meters\n",
    "    \"\"\"\n",
    "    print(angle)\n",
    "    condition.set(angle=angle)\n",
    "    system = make_system(condition)\n",
    "    run_odeint(system, slope_func)\n",
    "    x_range = interpolate_range(system.results)\n",
    "    return x_range"
   ]
  },
  {
   "cell_type": "markdown",
   "metadata": {},
   "source": [
    "Let's test `range_func`."
   ]
  },
  {
   "cell_type": "code",
   "execution_count": 93,
   "metadata": {},
   "outputs": [
    {
     "name": "stdout",
     "output_type": "stream",
     "text": [
      "45\n",
      "Wall time: 264 ms\n"
     ]
    },
    {
     "data": {
      "text/plain": [
       "array(109.07212101030548)"
      ]
     },
     "execution_count": 93,
     "metadata": {},
     "output_type": "execute_result"
    }
   ],
   "source": [
    "%time range_func(45, condition)"
   ]
  },
  {
   "cell_type": "markdown",
   "metadata": {},
   "source": [
    "And sweep through a range of angles."
   ]
  },
  {
   "cell_type": "code",
   "execution_count": 94,
   "metadata": {},
   "outputs": [
    {
     "name": "stdout",
     "output_type": "stream",
     "text": [
      "30.0\n",
      "30.0 102.22512880611951\n",
      "33.0\n",
      "33.0 105.61073422582602\n",
      "36.0\n",
      "36.0 107.97200490961362\n",
      "39.0\n",
      "39.0 109.32525682573122\n",
      "42.0\n",
      "42.0 109.68662225002511\n",
      "45.0\n",
      "45.0 109.07212101030548\n",
      "48.0\n",
      "48.0 107.49791212235652\n",
      "51.0\n",
      "51.0 104.98068732786591\n",
      "54.0\n",
      "54.0 101.53816371252147\n",
      "57.0\n",
      "57.0 97.1896982361027\n",
      "60.0\n",
      "60.0 91.95703077946803\n"
     ]
    }
   ],
   "source": [
    "angles = linspace(30, 60, 11)\n",
    "sweep = SweepSeries()\n",
    "\n",
    "for angle in angles:\n",
    "    x_range = range_func(angle, condition)\n",
    "    print(angle, x_range)\n",
    "    sweep[angle] = x_range"
   ]
  },
  {
   "cell_type": "markdown",
   "metadata": {},
   "source": [
    "Plotting the `Sweep` object, it looks like the peak is between 40 and 45 degrees."
   ]
  },
  {
   "cell_type": "code",
   "execution_count": 95,
   "metadata": {},
   "outputs": [
    {
     "name": "stdout",
     "output_type": "stream",
     "text": [
      "Saving figure to file chap10-fig03.pdf\n"
     ]
    },
    {
     "data": {
      "image/png": "[encoded data removed]",
      "text/plain": [
       "<matplotlib.figure.Figure at 0x295e5e67470>"
      ]
     },
     "metadata": {},
     "output_type": "display_data"
    }
   ],
   "source": [
    "newfig()\n",
    "plot(sweep)\n",
    "decorate(xlabel='Launch angle (degree)',\n",
    "         ylabel='Range (m)',\n",
    "         legend=False)\n",
    "\n",
    "savefig('chap10-fig03.pdf')"
   ]
  },
  {
   "cell_type": "markdown",
   "metadata": {},
   "source": [
    "We can use `max_bounded` to search for the peak efficiently."
   ]
  },
  {
   "cell_type": "code",
   "execution_count": 96,
   "metadata": {},
   "outputs": [
    {
     "name": "stdout",
     "output_type": "stream",
     "text": [
      "45.0\n",
      "34.3769410125\n",
      "55.6230589875\n",
      "21.246117975\n",
      "41.8191039876\n",
      "41.6971472537\n",
      "41.6051027031\n",
      "41.6031028639\n",
      "41.6034368143\n",
      "41.6027689135\n",
      "Wall time: 3.34 s\n"
     ]
    }
   ],
   "source": [
    "%time res = max_bounded(range_func, [0, 90], condition)"
   ]
  },
  {
   "cell_type": "markdown",
   "metadata": {},
   "source": [
    "The result is an `OptimizeResult` object."
   ]
  },
  {
   "cell_type": "code",
   "execution_count": 97,
   "metadata": {},
   "outputs": [
    {
     "data": {
      "text/plain": [
       "scipy.optimize.optimize.OptimizeResult"
      ]
     },
     "execution_count": 97,
     "metadata": {},
     "output_type": "execute_result"
    }
   ],
   "source": [
    "type(res)"
   ]
  },
  {
   "cell_type": "markdown",
   "metadata": {},
   "source": [
    "With the following variables."
   ]
  },
  {
   "cell_type": "code",
   "execution_count": 98,
   "metadata": {},
   "outputs": [
    {
     "data": {
      "text/plain": [
       "     fun: 109.69517452156008\n",
       " message: 'Solution found.'\n",
       "    nfev: 9\n",
       "  status: 0\n",
       " success: True\n",
       "       x: 41.603102863878036"
      ]
     },
     "execution_count": 98,
     "metadata": {},
     "output_type": "execute_result"
    }
   ],
   "source": [
    "res"
   ]
  },
  {
   "cell_type": "markdown",
   "metadata": {},
   "source": [
    "So the optimal angle is about 41 degrees, and the resulting range is 103 meters."
   ]
  },
  {
   "cell_type": "markdown",
   "metadata": {},
   "source": [
    "**Exercise:** Add a print statement to `range_func` that prints `angle`.  Then run `max_bounded` again so you can see how many times it calls `range_func` and what the arguments are."
   ]
  },
  {
   "cell_type": "markdown",
   "metadata": {},
   "source": [
    "### Turning off units\n",
    "\n",
    "Each time `range_func` runs, it calls `odeint`, which runs `slope_func` many times.  And each time `slop_func` runs, it checks the units for all computations, which takes some time.  We can speed up the whole process by removing the units from the computation (now that we are satisfied that they are correct).\n",
    "\n",
    "Because of the way we organized the code, all units are in the `Condition` object, so we can \"turn off units\" by defining a new `Condition` object with no units:"
   ]
  },
  {
   "cell_type": "code",
   "execution_count": 99,
   "metadata": {
    "collapsed": true
   },
   "outputs": [],
   "source": [
    "condition = Condition(g = 9.8,\n",
    "                      mass = 145e-3,\n",
    "                      diameter = 73e-3,\n",
    "                      rho = 1.2,\n",
    "                      C_d = 0.3,\n",
    "                      angle = 45,\n",
    "                      velocity = 40,\n",
    "                      duration = 7)"
   ]
  },
  {
   "cell_type": "markdown",
   "metadata": {},
   "source": [
    "Now `range_func` and `max_bounded` are substantially faster."
   ]
  },
  {
   "cell_type": "code",
   "execution_count": 100,
   "metadata": {},
   "outputs": [
    {
     "name": "stdout",
     "output_type": "stream",
     "text": [
      "45\n",
      "Wall time: 52 ms\n"
     ]
    },
    {
     "data": {
      "text/plain": [
       "array(102.72237841710975)"
      ]
     },
     "execution_count": 100,
     "metadata": {},
     "output_type": "execute_result"
    }
   ],
   "source": [
    "%time range_func(45, condition)"
   ]
  },
  {
   "cell_type": "code",
   "execution_count": 101,
   "metadata": {},
   "outputs": [
    {
     "name": "stdout",
     "output_type": "stream",
     "text": [
      "45.0\n",
      "34.3769410125\n",
      "55.6230589875\n",
      "21.246117975\n",
      "41.4051852323\n",
      "41.2368620421\n",
      "41.1390964616\n",
      "41.1364127407\n",
      "41.1367466842\n",
      "41.1360787972\n",
      "Wall time: 449 ms\n"
     ]
    }
   ],
   "source": [
    "%time res = max_bounded(range_func, [0, 90], condition)"
   ]
  },
  {
   "cell_type": "markdown",
   "metadata": {},
   "source": [
    "### The Manny Ramirez problem\n",
    "\n",
    "Finally, let's solve the Manny Ramirez problem:\n",
    "\n",
    "*What is the minimum effort required to hit a home run in Fenway Park?*\n",
    "\n",
    "Fenway Park is a baseball stadium in Boston, Massachusetts.  One of its most famous features is the \"Green Monster\", which is a wall in left field that is unusually close to home plate, only 310 feet along the left field line.  To compensate for the short distance, the wall is unusually high, at 37 feet.\n",
    "\n",
    "Although the problem asks for a minimum, it is not an optimization problem.  Rather, we want to solve for the initial velocity that just barely gets the ball to the top of the wall, given that it launches at the optimal angle.\n",
    "\n",
    "And we have to be careful about what we mean by \"optimal\".  For this problem, we don't want the longest range, we want the maximum height at the point where it reaches the wall.\n",
    "\n",
    "If you are ready to solve the problem on your own, go ahead.  Otherwise I will walk you through the process with an outline and some starter code.\n",
    "\n",
    "As a first step, write a function called `height_func` that takes a launch angle and a condition as parameters, simulates the flights of a baseball, and returns the height of the baseball when it reaches a point 94.5 meters (310 feet) from home plate."
   ]
  },
  {
   "cell_type": "code",
   "execution_count": 105,
   "metadata": {},
   "outputs": [],
   "source": [
    "def height_func(angle, condition):\n",
    "    \n",
    "    print(angle)\n",
    "\n",
    "    condition.set(angle=angle)\n",
    "    system = make_system(condition)\n",
    "    run_odeint(system, slope_func)\n",
    "    \n",
    "    X = interp_inverse(system.results.x)\n",
    "    t_point = X(94.5)\n",
    "    \n",
    "    Y = interpolate(system.results.y)\n",
    "    return Y(t_point)"
   ]
  },
  {
   "cell_type": "markdown",
   "metadata": {},
   "source": [
    "Test your function with a launch angle of 45 degrees:"
   ]
  },
  {
   "cell_type": "code",
   "execution_count": 106,
   "metadata": {},
   "outputs": [
    {
     "name": "stdout",
     "output_type": "stream",
     "text": [
      "45\n"
     ]
    },
    {
     "data": {
      "text/plain": [
       "array(11.025366370142653)"
      ]
     },
     "execution_count": 106,
     "metadata": {},
     "output_type": "execute_result"
    }
   ],
   "source": [
    "height_func(45, condition)"
   ]
  },
  {
   "cell_type": "markdown",
   "metadata": {},
   "source": [
    "Now use `max_bounded` to find the optimal angle.  Is it higher or lower than the angle that maximizes range?"
   ]
  },
  {
   "cell_type": "code",
   "execution_count": 110,
   "metadata": {},
   "outputs": [
    {
     "name": "stdout",
     "output_type": "stream",
     "text": [
      "45.0\n",
      "34.3769410125\n",
      "55.6230589875\n",
      "21.246117975\n",
      "40.0964091144\n",
      "41.9865507741\n",
      "47.1952334237\n",
      "44.3729100433\n",
      "44.4032473114\n",
      "44.7851090803\n",
      "44.5491055281\n",
      "44.598163681\n",
      "44.5182828595\n",
      "44.47434319\n",
      "44.5178199739\n",
      "44.526924287\n",
      "44.5215835911\n",
      "44.5199261685\n",
      "44.5202601622\n",
      "44.5195921748\n"
     ]
    }
   ],
   "source": [
    "res = max_bounded(height_func, [0,90], condition)"
   ]
  },
  {
   "cell_type": "markdown",
   "metadata": {},
   "source": [
    "The following lines compute the height of the ball at the wall, given that it's launched at the optimal angle."
   ]
  },
  {
   "cell_type": "code",
   "execution_count": 112,
   "metadata": {},
   "outputs": [
    {
     "name": "stdout",
     "output_type": "stream",
     "text": [
      "44.5199261685\n"
     ]
    },
    {
     "data": {
      "text/plain": [
       "array(11.045254540088495)"
      ]
     },
     "execution_count": 112,
     "metadata": {},
     "output_type": "execute_result"
    }
   ],
   "source": [
    "angle = res.x\n",
    "height = height_func(angle, condition)\n",
    "height"
   ]
  },
  {
   "cell_type": "markdown",
   "metadata": {},
   "source": [
    "Next, we need to find the height of the ball at the wall, for a given velocity, given that it's launched at the optimal angle.\n",
    "\n",
    "Write a function called `best_height` that takes velocity and a `Condition` object as parameters.  It should use `max_bounded` to find the optimal launch angle, then compute and the highest possible height of the ball at the wall, for the given velocity."
   ]
  },
  {
   "cell_type": "code",
   "execution_count": 113,
   "metadata": {
    "collapsed": true
   },
   "outputs": [],
   "source": [
    "def best_height(velocity, condition):\n",
    "    condition.set(velocity = velocity)\n",
    "    res = max_bounded(height_func, [0,90], condition)\n",
    "    angle = res.x\n",
    "    return height_func(angle, condition)"
   ]
  },
  {
   "cell_type": "markdown",
   "metadata": {},
   "source": [
    "Use this code to test `best_height`"
   ]
  },
  {
   "cell_type": "code",
   "execution_count": 114,
   "metadata": {},
   "outputs": [
    {
     "name": "stdout",
     "output_type": "stream",
     "text": [
      "45.0\n",
      "34.3769410125\n",
      "55.6230589875\n",
      "21.246117975\n",
      "40.0964091144\n",
      "41.9865507741\n",
      "47.1952334237\n",
      "44.3729100433\n",
      "44.4032473114\n",
      "44.7851090803\n",
      "44.5491055281\n",
      "44.598163681\n",
      "44.5182828595\n",
      "44.47434319\n",
      "44.5178199739\n",
      "44.526924287\n",
      "44.5215835911\n",
      "44.5199261685\n",
      "44.5202601622\n",
      "44.5195921748\n",
      "44.5199261685\n"
     ]
    },
    {
     "data": {
      "text/plain": [
       "array(11.045254540088495)"
      ]
     },
     "execution_count": 114,
     "metadata": {},
     "output_type": "execute_result"
    }
   ],
   "source": [
    "best_height(40, condition)"
   ]
  },
  {
   "cell_type": "markdown",
   "metadata": {},
   "source": [
    "Finally, we want to use `fsolve` to find the initial velocity that makes the height of the ball exactly 11 meters when it reaches the wall.\n",
    "\n",
    "To use `fsolve`, we need an error function that returns 0 when we have the right velocity.  Write a function called `error_func` that takes a velocity and a `Condition` object, uses `best_height` to find the height of the ball at the wall, and returns the difference between the result and the target value (11 meters)."
   ]
  },
  {
   "cell_type": "code",
   "execution_count": 115,
   "metadata": {
    "collapsed": true
   },
   "outputs": [],
   "source": [
    "def error_func(velocity, condition):\n",
    "    condition.set(velocity=velocity)\n",
    "   \n",
    "    height = best_height(velocity = velocity, condition = condition)\n",
    "    return height - 11"
   ]
  },
  {
   "cell_type": "markdown",
   "metadata": {},
   "source": [
    "Test your error function like this:"
   ]
  },
  {
   "cell_type": "code",
   "execution_count": 116,
   "metadata": {},
   "outputs": [
    {
     "name": "stdout",
     "output_type": "stream",
     "text": [
      "45.0\n",
      "34.3769410125\n",
      "55.6230589875\n",
      "21.246117975\n",
      "40.0964091144\n",
      "41.9865507741\n",
      "47.1952334237\n",
      "44.3729100433\n",
      "44.4032473114\n",
      "44.7851090803\n",
      "44.5491055281\n",
      "44.598163681\n",
      "44.5182828595\n",
      "44.47434319\n",
      "44.5178199739\n",
      "44.526924287\n",
      "44.5215835911\n",
      "44.5199261685\n",
      "44.5202601622\n",
      "44.5195921748\n",
      "44.5199261685\n"
     ]
    },
    {
     "data": {
      "text/plain": [
       "0.045254540088494721"
      ]
     },
     "execution_count": 116,
     "metadata": {},
     "output_type": "execute_result"
    }
   ],
   "source": [
    "error_func(40, condition)"
   ]
  },
  {
   "cell_type": "markdown",
   "metadata": {},
   "source": [
    "Then use `fsolve` to find the answer to the problem, the minimum velocity that gets the ball out of the park."
   ]
  },
  {
   "cell_type": "code",
   "execution_count": 119,
   "metadata": {},
   "outputs": [
    {
     "name": "stdout",
     "output_type": "stream",
     "text": [
      "45.0\n",
      "34.3769410125\n",
      "55.6230589875\n",
      "21.246117975\n",
      "40.0964091144\n",
      "41.9865507741\n",
      "47.1952334237\n",
      "44.3729100433\n",
      "44.4032473114\n",
      "44.7851090803\n",
      "44.5491055281\n",
      "44.598163681\n",
      "44.5182828595\n",
      "44.47434319\n",
      "44.5178199739\n",
      "44.526924287\n",
      "44.5215835911\n",
      "44.5199261685\n",
      "44.5202601622\n",
      "44.5195921748\n",
      "44.5199261685\n",
      "45.0\n",
      "34.3769410125\n",
      "55.6230589875\n",
      "21.246117975\n",
      "40.0964091144\n",
      "41.9865507741\n",
      "47.1952334237\n",
      "44.3729100433\n",
      "44.4032473114\n",
      "44.7851090803\n",
      "44.5491055281\n",
      "44.598163681\n",
      "44.5182828595\n",
      "44.47434319\n",
      "44.5178199739\n",
      "44.526924287\n",
      "44.5215835911\n",
      "44.5199261685\n",
      "44.5202601622\n",
      "44.5195921748\n",
      "44.5199261685\n",
      "45.0\n",
      "34.3769410125\n",
      "55.6230589875\n",
      "21.246117975\n",
      "40.0964091144\n",
      "41.9865507741\n",
      "47.1952334237\n",
      "44.3729100433\n",
      "44.4032473114\n",
      "44.7851090803\n",
      "44.5491055281\n",
      "44.598163681\n",
      "44.5182828595\n",
      "44.47434319\n",
      "44.5178199739\n",
      "44.526924287\n",
      "44.5215835911\n",
      "44.5199261685\n",
      "44.5202601622\n",
      "44.5195921748\n",
      "44.5199261685\n",
      "45.0\n",
      "34.3769410125\n",
      "55.6230589875\n",
      "21.246117975\n",
      "40.0964091144\n",
      "41.9865507741\n",
      "47.1952334237\n",
      "44.3729100433\n",
      "44.4032473114\n",
      "44.7851090803\n",
      "44.5491055281\n",
      "44.598163681\n",
      "44.5182828595\n",
      "44.47434319\n",
      "44.5178199739\n",
      "44.526924287\n",
      "44.5215835911\n",
      "44.5199261685\n",
      "44.5202601622\n",
      "44.5195921748\n",
      "44.5199261685\n",
      "45.0\n",
      "34.3769410125\n",
      "55.6230589875\n",
      "21.246117975\n",
      "40.0964101039\n",
      "41.9865514818\n",
      "47.1952338611\n",
      "44.3729107363\n",
      "44.4032479885\n",
      "44.7851096988\n",
      "44.5491061829\n",
      "44.5981646707\n",
      "44.5182836073\n",
      "44.4743439108\n",
      "44.5178206755\n",
      "44.5269250008\n",
      "44.5215843259\n",
      "44.5199268969\n",
      "44.5202608905\n",
      "44.5195929032\n",
      "44.5199268969\n",
      "45.0\n",
      "34.3769410125\n",
      "55.6230589875\n",
      "21.246117975\n",
      "40.0776709524\n",
      "41.9731411518\n",
      "47.1869458214\n",
      "44.3597757581\n",
      "44.390414864\n",
      "44.7735586919\n",
      "44.5367627837\n",
      "44.5793338916\n",
      "44.504097991\n",
      "44.4606749004\n",
      "44.5045348687\n",
      "44.5135666998\n",
      "44.5079847212\n",
      "44.506102114\n",
      "44.5064361074\n",
      "44.5057681205\n",
      "44.506102114\n",
      "45.0\n",
      "34.3769410125\n",
      "55.6230589875\n",
      "21.246117975\n",
      "40.0776743828\n",
      "41.9731436085\n",
      "47.1869473397\n",
      "44.3597781647\n",
      "44.3904172153\n",
      "44.7735608033\n",
      "44.5367650433\n",
      "44.5793373114\n",
      "44.5041005829\n",
      "44.4606774004\n",
      "44.5045373039\n",
      "44.5135691508\n",
      "44.5079871624\n",
      "44.5061046445\n",
      "44.5064386379\n",
      "44.505770651\n",
      "44.5061046445\n",
      "45.0\n",
      "34.3769410125\n",
      "55.6230589875\n",
      "21.246117975\n",
      "40.0776743821\n",
      "41.9731436079\n",
      "47.1869473394\n",
      "44.3597781642\n",
      "44.3904172148\n",
      "44.7735608061\n",
      "44.5367650441\n",
      "44.5793373047\n",
      "44.5041005812\n",
      "44.4606773992\n",
      "44.5045373037\n",
      "44.5135691447\n",
      "44.5079871599\n",
      "44.5061046433\n",
      "44.5064386368\n",
      "44.5057706498\n",
      "44.5061046433\n"
     ]
    }
   ],
   "source": [
    "minimum_v = fsolve(error_func, 40, condition)"
   ]
  },
  {
   "cell_type": "code",
   "execution_count": 120,
   "metadata": {},
   "outputs": [
    {
     "data": {
      "text/plain": [
       "array([ 39.98870758])"
      ]
     },
     "execution_count": 120,
     "metadata": {},
     "output_type": "execute_result"
    }
   ],
   "source": [
    "minimum_v"
   ]
  },
  {
   "cell_type": "markdown",
   "metadata": {},
   "source": [
    "And just to check, run `best_height` with the value you found.  The result should be 11 meters."
   ]
  },
  {
   "cell_type": "code",
   "execution_count": 122,
   "metadata": {},
   "outputs": [
    {
     "name": "stdout",
     "output_type": "stream",
     "text": [
      "45.0\n",
      "34.3769410125\n",
      "55.6230589875\n",
      "21.246117975\n",
      "40.0776743821\n",
      "41.9731436079\n",
      "47.1869473394\n",
      "44.3597781642\n",
      "44.3904172148\n",
      "44.7735608061\n",
      "44.5367650441\n",
      "44.5793373047\n",
      "44.5041005812\n",
      "44.4606773992\n",
      "44.5045373037\n",
      "44.5135691447\n",
      "44.5079871599\n",
      "44.5061046433\n",
      "44.5064386368\n",
      "44.5057706498\n",
      "44.5061046433\n"
     ]
    },
    {
     "data": {
      "text/plain": [
       "array(11.000000000003928)"
      ]
     },
     "execution_count": 122,
     "metadata": {},
     "output_type": "execute_result"
    }
   ],
   "source": [
    "best_height(minimum_v, condition)"
   ]
  }
 ],
 "metadata": {
  "kernelspec": {
   "display_name": "Python 3",
   "language": "python",
   "name": "python3"
  },
  "language_info": {
   "codemirror_mode": {
    "name": "ipython",
    "version": 3
   },
   "file_extension": ".py",
   "mimetype": "text/x-python",
   "name": "python",
   "nbconvert_exporter": "python",
   "pygments_lexer": "ipython3",
   "version": "3.6.1"
  }
 },
 "nbformat": 4,
 "nbformat_minor": 1
}
